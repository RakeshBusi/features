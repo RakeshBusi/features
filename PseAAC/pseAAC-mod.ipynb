{
 "cells": [
  {
   "cell_type": "code",
   "execution_count": 1,
   "metadata": {},
   "outputs": [],
   "source": [
    "import numpy as np\n",
    "from scipy import stats\n",
    "#scale 14 @ \n",
    "def properties(a):# Standard the physiochemical properties\n",
    "    temp,r2={},{}\n",
    "    with open('7_98_hydrophobicity.csv','r') as inpt:\n",
    "        c=0\n",
    "        for i in inpt:\n",
    "            j=i.rstrip().split(',')\n",
    "            if c==0:\n",
    "                pass\n",
    "            else:\n",
    "                temp[j[0]]=float(j[a])\n",
    "            c+=1\n",
    "    r1=stats.zscore(np.array(list(temp.values())))\n",
    "    for ii,jj in zip(temp.keys(),r1):\n",
    "        r2[ii]=jj\n",
    "    return r2\n",
    "  \n",
    "no_prop=[r for r in range(1,105)]# 1: Hydrophobicity, 2: Hydrophilicity, 3: mass, 4: pk1, 5:pk2, 6:pi, 20: 14 scale, 60: Tanford\n",
    "prop={}\n",
    "for t1 in no_prop:\n",
    "    prop[t1]=properties(t1)\n",
    "d=1\n",
    "aa={}\n",
    "for t2 in prop[1].keys():\n",
    "    aa[d]=t2\n",
    "    d+=1    "
   ]
  },
  {
   "cell_type": "code",
   "execution_count": 2,
   "metadata": {},
   "outputs": [
    {
     "ename": "ValueError",
     "evalue": "min() arg is an empty sequence",
     "output_type": "error",
     "traceback": [
      "\u001b[1;31m---------------------------------------------------------------------------\u001b[0m",
      "\u001b[1;31mValueError\u001b[0m                                Traceback (most recent call last)",
      "\u001b[1;32m<ipython-input-2-a2f8f6b5182a>\u001b[0m in \u001b[0;36m<module>\u001b[1;34m\u001b[0m\n\u001b[0;32m     32\u001b[0m         \u001b[0mleng\u001b[0m\u001b[1;33m.\u001b[0m\u001b[0mappend\u001b[0m\u001b[1;33m(\u001b[0m\u001b[0mlen\u001b[0m\u001b[1;33m(\u001b[0m\u001b[0mele\u001b[0m\u001b[1;33m.\u001b[0m\u001b[0mrstrip\u001b[0m\u001b[1;33m(\u001b[0m\u001b[1;33m)\u001b[0m\u001b[1;33m)\u001b[0m\u001b[1;33m)\u001b[0m\u001b[1;33m\u001b[0m\u001b[1;33m\u001b[0m\u001b[0m\n\u001b[0;32m     33\u001b[0m         \u001b[0mseq\u001b[0m\u001b[1;33m.\u001b[0m\u001b[0mappend\u001b[0m\u001b[1;33m(\u001b[0m\u001b[0mele\u001b[0m\u001b[1;33m.\u001b[0m\u001b[0mrstrip\u001b[0m\u001b[1;33m(\u001b[0m\u001b[1;33m)\u001b[0m\u001b[1;33m.\u001b[0m\u001b[0mupper\u001b[0m\u001b[1;33m(\u001b[0m\u001b[1;33m)\u001b[0m\u001b[1;33m)\u001b[0m\u001b[1;33m\u001b[0m\u001b[1;33m\u001b[0m\u001b[0m\n\u001b[1;32m---> 34\u001b[1;33m \u001b[0mprint\u001b[0m\u001b[1;33m(\u001b[0m\u001b[1;34m'The length of the smallest sequence:'\u001b[0m\u001b[1;33m,\u001b[0m\u001b[0mmin\u001b[0m\u001b[1;33m(\u001b[0m\u001b[0mleng\u001b[0m\u001b[1;33m)\u001b[0m\u001b[1;33m)\u001b[0m\u001b[1;33m\u001b[0m\u001b[1;33m\u001b[0m\u001b[0m\n\u001b[0m",
      "\u001b[1;31mValueError\u001b[0m: min() arg is an empty sequence"
     ]
    }
   ],
   "source": [
    "def sl_fasta(n):# multiline fasta converted to single line fasta\n",
    "    fasta=[]\n",
    "    count=0\n",
    "    with open(f'{n}','r') as inpt1:\n",
    "        for j in inpt1:\n",
    "            fasta.append(j.rstrip())\n",
    "            if j.startswith('>'):\n",
    "                count+=1\n",
    "    acc_seq=[]\n",
    "    c=0\n",
    "    for k in range(len(fasta)):\n",
    "        if fasta[k].startswith('>'):\n",
    "            acc_seq.append(fasta[k]+'\\n')\n",
    "            join_=0\n",
    "            for l in range(k+1,len(fasta)):\n",
    "                if fasta[l].startswith('>') == False:\n",
    "                    join_+=1\n",
    "                else:\n",
    "                    break\n",
    "            acc_seq.append(''.join(fasta[k+1:k+1+join_])+'\\n')\n",
    "    return acc_seq\n",
    "\n",
    "acc,seq,leng=[],[],[]\n",
    "q=sl_fasta('course_cluster.txt')\n",
    "\n",
    "for ele in q:\n",
    "    if ele.startswith('>'):\n",
    "        acc.append(ele.rstrip())\n",
    "    else:\n",
    "        if 'X' in ele:\n",
    "            ele=ele.replace('X','') # removing X amino acid\n",
    "        leng.append(len(ele.rstrip()))\n",
    "        seq.append(ele.rstrip().upper())\n",
    "print('The length of the smallest sequence:',min(leng))"
   ]
  },
  {
   "cell_type": "code",
   "execution_count": 5,
   "metadata": {
    "scrolled": true
   },
   "outputs": [
    {
     "name": "stdout",
     "output_type": "stream",
     "text": [
      "Work done!!!\n"
     ]
    }
   ],
   "source": [
    "# nf normalizing frequency of occurence, 1=true\n",
    "def rel_cal(data,v,pro):\n",
    "    tem=[]\n",
    "    for u in range(len(data)-v):\n",
    "        te=[]\n",
    "        for u1 in pro:\n",
    "            x=((prop[u1][data[u]])-(prop[u1][data[u+v]]))**2\n",
    "            te.append(x)\n",
    "#             print(u1,u,u+v,data[u],data[u+v],x)\n",
    "        tem.append(sum(te)/len(pro))\n",
    "    return sum(tem)\n",
    "\n",
    "def theta(data,lamb,pro):\n",
    "    the={}\n",
    "    for u in range(1,lamb+1):\n",
    "        the[u]=(1/(len(data)-u))*rel_cal(data,u,pro)\n",
    "    return the\n",
    "\n",
    "def pse(data,lamb,w,pro,nf):\n",
    "    thet=theta(data,lamb,pro)\n",
    "    deno=1+(w*sum(thet.values()))\n",
    "    p={}\n",
    "    if nf==1:\n",
    "        norm=(len(data))\n",
    "    else:\n",
    "        norm=1\n",
    "    for u in range(1,21+lamb):\n",
    "        if u>=1 and u<=20:\n",
    "#             print(u,'natural')\n",
    "            num=data.count(aa[u])/norm # frequency\n",
    "#             print(f'{aa[u]}.......',(num/deno))\n",
    "            p[u]=num/deno\n",
    "        elif u>=21 and u<=20+lamb:\n",
    "#             print(u,'pseudo')\n",
    "            num=w*thet[u-20]\n",
    "#             print(f'lambda_{u-20}.......',(num/deno))\n",
    "            p[u]=num/deno\n",
    "    return p\n",
    "\n",
    "def collect(lamb,w,pro,nf):\n",
    "    out=open(f'AAC_lyso.txt','w',encoding='utf-8')\n",
    "    out.write('#')\n",
    "    for ea in aa.values():\n",
    "        out.write('\\t'+ea)\n",
    "    for eac in range(lamb):\n",
    "        out.write('\\t'+'\\u03BB'+str(eac+1))\n",
    "    out.write('\\n')\n",
    "    for e_seq in range(len(seq)):# single sequence taken for test\n",
    "        q=pse(seq[e_seq],lamb,w,pro,nf)\n",
    "        tem=acc[e_seq].split(' ')[0][1:]\n",
    "        out.write(tem)\n",
    "        for zx in range(len(q)):\n",
    "            out.write('\\t'+str(q[zx+1]))\n",
    "        out.write('\\n')\n",
    "    out.close()\n",
    "    print('Work done!!!')\n",
    "collect(0,0.05,[60,2,3],1) "
   ]
  },
  {
   "cell_type": "code",
   "execution_count": 2,
   "metadata": {},
   "outputs": [
    {
     "data": {
      "text/plain": [
       "{'A': 0.6362505881446507,\n",
       " 'C': 0.2976010815515301,\n",
       " 'D': -0.9235895634357834,\n",
       " 'E': -0.7593958632694219,\n",
       " 'F': 1.2211906449873136,\n",
       " 'G': 0.4925811004990844,\n",
       " 'H': -0.4104842504159038,\n",
       " 'I': 1.4161706639348677,\n",
       " 'K': -1.539315939059639,\n",
       " 'L': 1.087783263602145,\n",
       " 'M': 0.6567748006654459,\n",
       " 'N': -0.8004442883110122,\n",
       " 'P': 0.12314527512477108,\n",
       " 'Q': -0.8722790321337953,\n",
       " 'R': -2.5963128838805907,\n",
       " 'S': -0.18471791268715668,\n",
       " 'T': -0.051310531301988004,\n",
       " 'V': 1.1083074761229401,\n",
       " 'W': 0.8312306070922051,\n",
       " 'Y': 0.26681476277033733}"
      ]
     },
     "execution_count": 2,
     "metadata": {},
     "output_type": "execute_result"
    }
   ],
   "source": [
    "prop[1]"
   ]
  },
  {
   "cell_type": "code",
   "execution_count": null,
   "metadata": {},
   "outputs": [],
   "source": []
  }
 ],
 "metadata": {
  "kernelspec": {
   "display_name": "Python 3",
   "language": "python",
   "name": "python3"
  },
  "language_info": {
   "codemirror_mode": {
    "name": "ipython",
    "version": 3
   },
   "file_extension": ".py",
   "mimetype": "text/x-python",
   "name": "python",
   "nbconvert_exporter": "python",
   "pygments_lexer": "ipython3",
   "version": "3.8.7"
  }
 },
 "nbformat": 4,
 "nbformat_minor": 4
}
